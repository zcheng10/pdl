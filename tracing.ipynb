{
 "cells": [
  {
   "cell_type": "code",
   "execution_count": 3,
   "metadata": {},
   "outputs": [],
   "source": [
    "import numpy as np\n",
    "import matplotlib.pyplot as plt\n",
    "import math\n",
    "import torch\n",
    "\n",
    "import cv2\n",
    "from ultralytics import YOLO\n",
    "\n",
    "from src.pworld import *\n",
    "from src.pnn import *"
   ]
  },
  {
   "cell_type": "code",
   "execution_count": null,
   "metadata": {},
   "outputs": [],
   "source": [
    "### Tracking \n",
    "### Ref: https://docs.ultralytics.com/modes/track/#configuration\n",
    "### \n",
    "\n",
    "# Load the YOLO11 model\n",
    "model = YOLO(\"model/yolo11s.pt\")\n",
    "ToTrack = False\n",
    "\n",
    "# Open the video file\n",
    "video_path = \"test/ext.webm\"\n",
    "cap = cv2.VideoCapture(video_path)  \n",
    "\n",
    "# Loop through the video frames\n",
    "while cap.isOpened():\n",
    "    # Read a frame from the video\n",
    "    success, frame = cap.read()\n",
    "\n",
    "    if success:\n",
    "        # Run YOLO11 tracking on the frame, persisting tracks between frames\n",
    "        if ToTrack:\n",
    "            results = model.track(frame, persist=True, classes=[32])\n",
    "        else:\n",
    "            results = model.predict(frame, classes = [32])\n",
    "\n",
    "        # Visualize the results on the frame\n",
    "        annotated_frame = results[0].plot()\n",
    "\n",
    "        # Display the annotated frame\n",
    "        cv2.imshow(\"YOLO11 Tracking\", annotated_frame)\n",
    "\n",
    "        # Break the loop if 'q' is pressed\n",
    "        if cv2.waitKey(1) & 0xFF == ord(\"q\"):\n",
    "            break\n",
    "    else:\n",
    "        # Break the loop if the end of the video is reached\n",
    "        break\n",
    "\n",
    "# Release the video capture object and close the display window\n",
    "cap.release()\n",
    "cv2.destroyAllWindows()"
   ]
  },
  {
   "cell_type": "code",
   "execution_count": null,
   "metadata": {},
   "outputs": [
    {
     "name": "stdout",
     "output_type": "stream",
     "text": [
      "number of frames = 6373\n",
      "time per frame = 25.0\n",
      "frame dimension = 1280, 720\n"
     ]
    }
   ],
   "source": [
    "# edit and crop a video\n",
    "# Open the video file\n",
    "video_path = \"test/ext.webm\"\n",
    "cap = cv2.VideoCapture(video_path)\n",
    "if cap.isOpened():\n",
    "    print(\"number of frames =\", int(cap.get(cv2.CAP_PROP_FRAME_COUNT)))\n",
    "    print(\"time per frame =\", cap.get(cv2.CAP_PROP_FPS))\n",
    "    tags = [cv2.CAP_PROP_FRAME_WIDTH, cv2.CAP_PROP_FRAME_HEIGHT] \n",
    "    w, h = [int(cap.get(t)) for t in tags]\n",
    "    print(\"frame dimension = {}, {}\".format(w, h) )\n",
    "\n",
    "cap.release()"
   ]
  },
  {
   "cell_type": "code",
   "execution_count": null,
   "metadata": {},
   "outputs": [
    {
     "name": "stdout",
     "output_type": "stream",
     "text": [
      "tensor([[-788.3163,  -52.0553, -846.0417,  -88.2632],\n",
      "        [ 128.8639,   60.7489,  150.3063,   15.8115]])\n",
      "tensor([1347729.3750,   43138.3125]) 1\n",
      "tensor([[1121.1801,  663.1548, 1249.0104,  718.8750]])\n",
      "tensor([ 203.9998,  550.3506,  252.6624,  614.8003, 1121.1801,  663.1548, 1249.0104,  718.8750])\n"
     ]
    }
   ],
   "source": [
    "t1 = [[203.99984741210938, 550.3505859375, 252.66238403320312, 614.80029296875],\n",
    "    [1121.1800537109375, 663.15478515625, 1249.0103759765625, 718.875]]\n",
    "t2 = [[992.316162109375, 602.4058837890625, 1098.7041015625, 703.0634765625]]\n",
    "t1 = torch.tensor(t1)\n",
    "t2 = torch.tensor(t2)\n",
    "print( t1 - t2)\n",
    "a = t1 - t2\n",
    "b = torch.sum(a**2, axis = 1)\n",
    "k = torch.topk(-b, 1).indices.item()\n",
    "print(b,k)\n",
    "\n",
    "c = t1[k, :]\n",
    "print(c.unsqueeze(0))\n",
    "print(t1.flatten().tolist())"
   ]
  },
  {
   "cell_type": "code",
   "execution_count": null,
   "metadata": {},
   "outputs": [],
   "source": []
  }
 ],
 "metadata": {
  "kernelspec": {
   "display_name": "Python 3",
   "language": "python",
   "name": "python3"
  },
  "language_info": {
   "codemirror_mode": {
    "name": "ipython",
    "version": 3
   },
   "file_extension": ".py",
   "mimetype": "text/x-python",
   "name": "python",
   "nbconvert_exporter": "python",
   "pygments_lexer": "ipython3",
   "version": "3.11.0"
  }
 },
 "nbformat": 4,
 "nbformat_minor": 2
}

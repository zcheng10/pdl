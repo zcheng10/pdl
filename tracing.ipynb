{
 "cells": [
  {
   "cell_type": "code",
   "execution_count": 1,
   "metadata": {},
   "outputs": [],
   "source": [
    "import numpy as np\n",
    "import matplotlib.pyplot as plt\n",
    "import math\n",
    "\n",
    "import cv2\n",
    "from ultralytics import YOLO\n"
   ]
  },
  {
   "cell_type": "code",
   "execution_count": null,
   "metadata": {},
   "outputs": [],
   "source": [
    "### Tracking \n",
    "### Ref: https://docs.ultralytics.com/modes/track/#configuration\n",
    "### \n",
    "\n",
    "# Load the YOLO11 model\n",
    "model = YOLO(\"model/yolo11s.pt\")\n",
    "ToTrack = False\n",
    "\n",
    "# Open the video file\n",
    "video_path = \"test/ext.webm\"\n",
    "cap = cv2.VideoCapture(video_path)  \n",
    "\n",
    "# Loop through the video frames\n",
    "while cap.isOpened():\n",
    "    # Read a frame from the video\n",
    "    success, frame = cap.read()\n",
    "\n",
    "    if success:\n",
    "        # Run YOLO11 tracking on the frame, persisting tracks between frames\n",
    "        if ToTrack:\n",
    "            results = model.track(frame, persist=True, classes=[32])\n",
    "        else:\n",
    "            results = model.predict(frame, classes = [32])\n",
    "\n",
    "        # Visualize the results on the frame\n",
    "        annotated_frame = results[0].plot()\n",
    "\n",
    "        # Display the annotated frame\n",
    "        cv2.imshow(\"YOLO11 Tracking\", annotated_frame)\n",
    "\n",
    "        # Break the loop if 'q' is pressed\n",
    "        if cv2.waitKey(1) & 0xFF == ord(\"q\"):\n",
    "            break\n",
    "    else:\n",
    "        # Break the loop if the end of the video is reached\n",
    "        break\n",
    "\n",
    "# Release the video capture object and close the display window\n",
    "cap.release()\n",
    "cv2.destroyAllWindows()"
   ]
  },
  {
   "cell_type": "code",
   "execution_count": null,
   "metadata": {},
   "outputs": [
    {
     "name": "stdout",
     "output_type": "stream",
     "text": [
      "number of frames = 6373\n",
      "time per frame = 25.0\n",
      "frame dimension = 1280, 720\n"
     ]
    }
   ],
   "source": [
    "# edit and crop a video\n",
    "# Open the video file\n",
    "video_path = \"test/ext.webm\"\n",
    "cap = cv2.VideoCapture(video_path)\n",
    "if cap.isOpened():\n",
    "    print(\"number of frames =\", int(cap.get(cv2.CAP_PROP_FRAME_COUNT)))\n",
    "    print(\"time per frame =\", cap.get(cv2.CAP_PROP_FPS))\n",
    "    tags = [cv2.CAP_PROP_FRAME_WIDTH, cv2.CAP_PROP_FRAME_HEIGHT] \n",
    "    w, h = [int(cap.get(t)) for t in tags]\n",
    "    print(\"frame dimension = {}, {}\".format(w, h) )\n",
    "\n",
    "cap.release()"
   ]
  },
  {
   "cell_type": "code",
   "execution_count": null,
   "metadata": {},
   "outputs": [],
   "source": []
  }
 ],
 "metadata": {
  "kernelspec": {
   "display_name": "Python 3",
   "language": "python",
   "name": "python3"
  },
  "language_info": {
   "codemirror_mode": {
    "name": "ipython",
    "version": 3
   },
   "file_extension": ".py",
   "mimetype": "text/x-python",
   "name": "python",
   "nbconvert_exporter": "python",
   "pygments_lexer": "ipython3",
   "version": "3.11.0"
  }
 },
 "nbformat": 4,
 "nbformat_minor": 2
}
